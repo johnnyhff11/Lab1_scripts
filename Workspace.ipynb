{
 "cells": [
  {
   "cell_type": "raw",
   "id": "changing-jumping",
   "metadata": {},
   "source": []
  },
  {
   "cell_type": "code",
   "execution_count": 1,
   "id": "supreme-tours",
   "metadata": {},
   "outputs": [],
   "source": [
    "import numpy as np\n",
    "import matplotlib.pyplot as plt\n",
    "import ugradio"
   ]
  },
  {
   "cell_type": "code",
   "execution_count": 2,
   "id": "fifteen-manner",
   "metadata": {},
   "outputs": [],
   "source": [
    "raw_data = np.load('beginner data.npz')"
   ]
  },
  {
   "cell_type": "code",
   "execution_count": 6,
   "id": "floral-armenia",
   "metadata": {},
   "outputs": [],
   "source": [
    "store = raw_data.files"
   ]
  },
  {
   "cell_type": "code",
   "execution_count": 7,
   "id": "convinced-terrorist",
   "metadata": {},
   "outputs": [],
   "source": [
    "for item in store:\n",
    "    print(item)\n",
    "    print(data[item])"
   ]
  },
  {
   "cell_type": "code",
   "execution_count": null,
   "id": "played-semiconductor",
   "metadata": {},
   "outputs": [],
   "source": [
    "\n",
    "from numpy import load\n",
    "\n",
    "data = load('beginner data.npz')\n",
    "lst = data.files\n",
    "for item in lst:\n",
    "    print(item)\n",
    "    print(data[item])"
   ]
  }
 ],
 "metadata": {
  "kernelspec": {
   "display_name": "Python 3",
   "language": "python",
   "name": "python3"
  },
  "language_info": {
   "codemirror_mode": {
    "name": "ipython",
    "version": 3
   },
   "file_extension": ".py",
   "mimetype": "text/x-python",
   "name": "python",
   "nbconvert_exporter": "python",
   "pygments_lexer": "ipython3",
   "version": "3.9.2"
  }
 },
 "nbformat": 4,
 "nbformat_minor": 5
}
